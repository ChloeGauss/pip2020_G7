{
 "cells": [
  {
   "cell_type": "code",
   "execution_count": 1,
   "metadata": {},
   "outputs": [],
   "source": [
    "from jupyter_dash import JupyterDash"
   ]
  },
  {
   "cell_type": "code",
   "execution_count": 4,
   "metadata": {},
   "outputs": [],
   "source": [
    "import dash\n",
    "import dash_core_components as dcc\n",
    "import dash_html_components as html\n",
    "import dash_bootstrap_components as dbc"
   ]
  },
  {
   "cell_type": "code",
   "execution_count": 6,
   "metadata": {},
   "outputs": [
    {
     "name": "stdout",
     "output_type": "stream",
     "text": [
      "Dash app running on http://127.0.0.1:8052/\n"
     ]
    }
   ],
   "source": [
    "# Since we're adding callbacks to elements that don't exist in the app.layout,\n",
    "# Dash will raise an exception to warn us that we might be\n",
    "# doing something wrong.\n",
    "# In this case, we're adding the elements through a callback, so we can ignore\n",
    "# the exception.\n",
    "app = JupyterDash(external_stylesheets=[dbc.themes.BOOTSTRAP])\n",
    "\n",
    "app.layout = html.Div([\n",
    "    html.H1(\"Home page\"),\n",
    "    dcc.Location(id='url', refresh=False),\n",
    "    html.Div(id='page-content')\n",
    "])\n",
    "\n",
    "\n",
    "index_page = html.Div([\n",
    "    dcc.Link('Go to Page 1', href='/page-1'),\n",
    "    html.Br(),\n",
    "    dcc.Link('Go to Page 2', href='/page-2'),\n",
    "])\n",
    "\n",
    "page_1_layout = html.Div([\n",
    "    html.H1('Page 1'),\n",
    "    dcc.Dropdown(\n",
    "        id='page-1-dropdown',\n",
    "        options=[{'label': i, 'value': i} for i in ['LA', 'NYC', 'MTL']],\n",
    "        value='LA'\n",
    "    ),\n",
    "    html.Div(id='page-1-content'),\n",
    "    html.Br(),\n",
    "    dcc.Link('Go to Page 2', href='/page-2'),\n",
    "    html.Br(),\n",
    "    dcc.Link('Go back to home', href='/'),\n",
    "])\n",
    "\n",
    "@app.callback(dash.dependencies.Output('page-1-content', 'children'),\n",
    "              [dash.dependencies.Input('page-1-dropdown', 'value')])\n",
    "def page_1_dropdown(value):\n",
    "    return 'You have selected \"{}\"'.format(value)\n",
    "\n",
    "\n",
    "page_2_layout = html.Div([\n",
    "    html.H1('Page 2'),\n",
    "    dcc.RadioItems(\n",
    "        id='page-2-radios',\n",
    "        options=[{'label': i, 'value': i} for i in ['Orange', 'Blue', 'Red']],\n",
    "        value='Orange'\n",
    "    ),\n",
    "    html.Div(id='page-2-content'),\n",
    "    html.Br(),\n",
    "    dcc.Link('Go to Page 1', href='/page-1'),\n",
    "    html.Br(),\n",
    "    dcc.Link('Go back to home', href='/')\n",
    "])\n",
    "\n",
    "@app.callback(dash.dependencies.Output('page-2-content', 'children'),\n",
    "              [dash.dependencies.Input('page-2-radios', 'value')])\n",
    "def page_2_radios(value):\n",
    "    return 'You have selected \"{}\"'.format(value)\n",
    "\n",
    "\n",
    "# Update the index\n",
    "@app.callback(dash.dependencies.Output('page-content', 'children'),\n",
    "              [dash.dependencies.Input('url', 'pathname')])\n",
    "def display_page(pathname):\n",
    "    if pathname == '/page-1':\n",
    "        return page_1_layout\n",
    "    elif pathname == '/page-2':\n",
    "        return page_2_layout\n",
    "    else:\n",
    "        return index_page\n",
    "    # You could also return a 404 \"URL not found\" page here\n",
    "\n",
    "\n",
    "if __name__ == '__main__':\n",
    "    app.run_server(debug=True,port=8052,host='127.0.0.1')\n"
   ]
  },
  {
   "cell_type": "code",
   "execution_count": null,
   "metadata": {},
   "outputs": [],
   "source": []
  },
  {
   "cell_type": "code",
   "execution_count": null,
   "metadata": {},
   "outputs": [],
   "source": []
  },
  {
   "cell_type": "code",
   "execution_count": null,
   "metadata": {},
   "outputs": [],
   "source": []
  },
  {
   "cell_type": "code",
   "execution_count": null,
   "metadata": {},
   "outputs": [],
   "source": []
  }
 ],
 "metadata": {
  "kernelspec": {
   "display_name": "Python 3",
   "language": "python",
   "name": "python3"
  },
  "language_info": {
   "codemirror_mode": {
    "name": "ipython",
    "version": 3
   },
   "file_extension": ".py",
   "mimetype": "text/x-python",
   "name": "python",
   "nbconvert_exporter": "python",
   "pygments_lexer": "ipython3",
   "version": "3.7.1"
  }
 },
 "nbformat": 4,
 "nbformat_minor": 2
}
