{
 "cells": [
  {
   "cell_type": "code",
   "execution_count": 12,
   "metadata": {},
   "outputs": [],
   "source": [
    "from jupyter_dash import JupyterDash"
   ]
  },
  {
   "cell_type": "code",
   "execution_count": 4,
   "metadata": {},
   "outputs": [],
   "source": [
    "import dash\n",
    "import dash_table\n",
    "import pandas as pd\n",
    "import dash_html_components as html\n",
    "import dash_core_components as dcc\n",
    "import os\n",
    "import base64"
   ]
  },
  {
   "cell_type": "code",
   "execution_count": null,
   "metadata": {},
   "outputs": [
    {
     "name": "stdout",
     "output_type": "stream",
     "text": [
      "Dash is running on http://127.0.0.1:8050/\n",
      "\n",
      "Dash is running on http://127.0.0.1:8050/\n",
      "\n",
      "Dash is running on http://127.0.0.1:8050/\n",
      "\n",
      "Dash is running on http://127.0.0.1:8050/\n",
      "\n",
      " * Serving Flask app \"__main__\" (lazy loading)\n",
      " * Environment: production\n",
      "   WARNING: This is a development server. Do not use it in a production deployment.\n",
      "   Use a production WSGI server instead.\n",
      " * Debug mode: off\n"
     ]
    },
    {
     "name": "stderr",
     "output_type": "stream",
     "text": [
      " * Running on http://127.0.0.1:8050/ (Press CTRL+C to quit)\n",
      "127.0.0.1 - - [05/Jan/2021 09:29:44] \"\u001b[37mGET / HTTP/1.1\u001b[0m\" 200 -\n",
      "127.0.0.1 - - [05/Jan/2021 09:29:44] \"\u001b[37mGET /_dash-component-suites/dash_renderer/react@16.v1_8_3m1607976077.14.0.min.js HTTP/1.1\u001b[0m\" 200 -\n",
      "127.0.0.1 - - [05/Jan/2021 09:29:44] \"\u001b[37mGET /_dash-component-suites/dash_renderer/prop-types@15.v1_8_3m1607976077.7.2.min.js HTTP/1.1\u001b[0m\" 200 -\n",
      "127.0.0.1 - - [05/Jan/2021 09:29:44] \"\u001b[37mGET /_dash-component-suites/dash_renderer/polyfill@7.v1_8_3m1607976077.8.7.min.js HTTP/1.1\u001b[0m\" 200 -\n",
      "127.0.0.1 - - [05/Jan/2021 09:29:44] \"\u001b[37mGET /_dash-component-suites/dash_core_components/dash_core_components.v1_14_1m1607975988.min.js HTTP/1.1\u001b[0m\" 200 -\n",
      "127.0.0.1 - - [05/Jan/2021 09:29:44] \"\u001b[37mGET /_dash-component-suites/dash_renderer/react-dom@16.v1_8_3m1607976077.14.0.min.js HTTP/1.1\u001b[0m\" 200 -\n",
      "127.0.0.1 - - [05/Jan/2021 09:29:44] \"\u001b[37mGET /_dash-component-suites/dash_core_components/dash_core_components-shared.v1_14_1m1607975988.js HTTP/1.1\u001b[0m\" 200 -\n",
      "127.0.0.1 - - [05/Jan/2021 09:29:44] \"\u001b[37mGET /_dash-component-suites/dash_table/bundle.v4_11_1m1607975988.js HTTP/1.1\u001b[0m\" 200 -\n",
      "127.0.0.1 - - [05/Jan/2021 09:29:45] \"\u001b[37mGET /_dash-component-suites/dash_html_components/dash_html_components.v1_1_1m1607976078.min.js HTTP/1.1\u001b[0m\" 200 -\n",
      "127.0.0.1 - - [05/Jan/2021 09:29:45] \"\u001b[37mGET /_dash-component-suites/dash_renderer/dash_renderer.v1_8_3m1607976077.min.js HTTP/1.1\u001b[0m\" 200 -\n",
      "127.0.0.1 - - [05/Jan/2021 09:29:45] \"\u001b[37mGET /_dash-layout HTTP/1.1\u001b[0m\" 200 -\n",
      "127.0.0.1 - - [05/Jan/2021 09:29:45] \"\u001b[37mGET /_dash-dependencies HTTP/1.1\u001b[0m\" 200 -\n",
      "127.0.0.1 - - [05/Jan/2021 09:29:45] \"\u001b[37mGET /_favicon.ico?v=1.18.1 HTTP/1.1\u001b[0m\" 200 -\n",
      "127.0.0.1 - - [05/Jan/2021 09:29:45] \"\u001b[37mPOST /_dash-update-component HTTP/1.1\u001b[0m\" 200 -\n"
     ]
    }
   ],
   "source": [
    "# -*- coding: utf-8 -*-\n",
    "\"\"\"\n",
    "Created on Mon Dec 14 20:58:36 2020\n",
    "\n",
    "@author: roman\n",
    "\"\"\"\n",
    "\n",
    "\n",
    "\n",
    "app = dash.Dash()\n",
    "\n",
    "\n",
    "# Importation de l'image\n",
    "image_filename = os.getcwd()+\"\\\\\"+'BL.jpg' # replace with your own image\n",
    "encoded_image = base64.b64encode(open(image_filename, 'rb').read())\n",
    "\n",
    "\n",
    "# Creation du code HTML\n",
    "app.layout = html.Div(\n",
    "    id='Bando',\n",
    "    children=[\n",
    "\n",
    "    # Division du bando droit\n",
    "        html.Div(\n",
    "            id='Bando_droit',\n",
    "            style={'textAlign': 'center','width':'15%','height':'98%','background-color':'#DCDCDC','float':'left','position':'absolute',},\n",
    "            children=[\n",
    "            html.Img(src='data:image/png;base64,{}'.format(encoded_image.decode()),height=75),\n",
    "            html.Hr(style={'color':'red'}),\n",
    "            html.H1(\"Recherche\"),\n",
    "            dcc.Input(id='my_input', value='Recherche', type='text'),\n",
    "            html.Div(id='reponse')\n",
    "        ]),\n",
    "\n",
    "    # Division Bando superieur: Barre de recherche\n",
    "    html.Div(\n",
    "        id='Bando_Superieur',\n",
    "        style={'textAlign': 'center','margin-left': '15%','width':'84%','height':'87px','background-color':'#DCDCDC','float':'top','position':'fixed'},\n",
    "        children=[\n",
    "            html.H1(\"Berger Levrault\")\n",
    "    ]),\n",
    "    # Affichage des Onglets\n",
    "    html.Div(\n",
    "        id='Onglet',\n",
    "        style={'textAlign': 'center','width':'84%','height':'10%','background-color':'white','position':'fixed','margin-left': '15%','margin-top': '87px','float':'top'},\n",
    "        children=[\n",
    "            html.Button('Articles', id='B1', n_clicks=0),\n",
    "            html.Button('Stats', id='B2', n_clicks=0),\n",
    "            html.Button('Compte', id='B3', n_clicks=0)\n",
    "\n",
    "    ]),\n",
    "\n",
    "        # Affichage des Articles\n",
    "        \"\"\"\"\n",
    "         html.Div(\n",
    "        id='Article',\n",
    "        style={'textAlign': 'center','width':'84%','height':'10%','background-color':'green','position':'relative'},\n",
    "        children=[\n",
    "            html.H2('Titre'),\n",
    "            html.P('Eum venit praestitutum qua Petobionem agente interiectis cum posse venit quos iumentorum imperio imperator imperator praefuit nec venit suis praefuit nec ubi deflecti ubi miseratione repente Barbatio rebus Petobionem viam et repente qui vita venit in vita imperator iumentorum Barbatio ubi permutatione sub emensis itaque rebus eo praemiis itaque miseratione.')\n",
    "            \n",
    "        ]),\n",
    "        \"\"\"\n",
    "    ])\n",
    "\n",
    "@app.callback(\n",
    "    dash.dependencies.Output(component_id='reponse', component_property='children'),\n",
    "    dash.dependencies.Input(component_id='my_input', component_property='value'))\n",
    "\n",
    "def my_input(value):\n",
    "    return 'You have selected \"{}\"'.format(value)\n",
    "\n",
    "if __name__=='__main__':\n",
    "    app.run_server(port=8050,host='127.0.0.1')\n",
    "\n",
    "\n",
    "\n"
   ]
  },
  {
   "cell_type": "code",
   "execution_count": null,
   "metadata": {},
   "outputs": [],
   "source": [
    "app.run_server(port=8050,host='127.0.0.1')"
   ]
  },
  {
   "cell_type": "code",
   "execution_count": 11,
   "metadata": {},
   "outputs": [
    {
     "name": "stdout",
     "output_type": "stream",
     "text": [
      "Collecting jupyter_dash\n",
      "  Using cached jupyter_dash-0.3.1-py3-none-any.whl (49 kB)\n",
      "Requirement already satisfied: flask in c:\\users\\roman\\anaconda3\\lib\\site-packages (from jupyter_dash) (1.1.2)\n",
      "Requirement already satisfied: requests in c:\\users\\roman\\anaconda3\\lib\\site-packages (from jupyter_dash) (2.24.0)\n",
      "Requirement already satisfied: dash in c:\\users\\roman\\anaconda3\\lib\\site-packages (from jupyter_dash) (1.18.1)\n",
      "Requirement already satisfied: ipykernel in c:\\users\\roman\\anaconda3\\lib\\site-packages (from jupyter_dash) (5.3.2)\n",
      "Requirement already satisfied: ipython in c:\\users\\roman\\anaconda3\\lib\\site-packages (from jupyter_dash) (7.16.1)\n",
      "Collecting ansi2html\n",
      "  Using cached ansi2html-1.6.0-py3-none-any.whl (14 kB)\n",
      "Requirement already satisfied: retrying in c:\\users\\roman\\anaconda3\\lib\\site-packages (from jupyter_dash) (1.3.3)\n",
      "Requirement already satisfied: Jinja2>=2.10.1 in c:\\users\\roman\\anaconda3\\lib\\site-packages (from flask->jupyter_dash) (2.11.2)\n",
      "Requirement already satisfied: itsdangerous>=0.24 in c:\\users\\roman\\anaconda3\\lib\\site-packages (from flask->jupyter_dash) (1.1.0)\n",
      "Requirement already satisfied: click>=5.1 in c:\\users\\roman\\anaconda3\\lib\\site-packages (from flask->jupyter_dash) (7.1.2)\n",
      "Requirement already satisfied: Werkzeug>=0.15 in c:\\users\\roman\\anaconda3\\lib\\site-packages (from flask->jupyter_dash) (1.0.1)\n",
      "Requirement already satisfied: idna<3,>=2.5 in c:\\users\\roman\\anaconda3\\lib\\site-packages (from requests->jupyter_dash) (2.10)\n",
      "Requirement already satisfied: certifi>=2017.4.17 in c:\\users\\roman\\anaconda3\\lib\\site-packages (from requests->jupyter_dash) (2020.6.20)\n",
      "Requirement already satisfied: urllib3!=1.25.0,!=1.25.1,<1.26,>=1.21.1 in c:\\users\\roman\\anaconda3\\lib\\site-packages (from requests->jupyter_dash) (1.25.9)\n",
      "Requirement already satisfied: chardet<4,>=3.0.2 in c:\\users\\roman\\anaconda3\\lib\\site-packages (from requests->jupyter_dash) (3.0.4)\n",
      "Requirement already satisfied: dash-table==4.11.1 in c:\\users\\roman\\anaconda3\\lib\\site-packages (from dash->jupyter_dash) (4.11.1)\n",
      "Requirement already satisfied: plotly in c:\\users\\roman\\anaconda3\\lib\\site-packages (from dash->jupyter_dash) (4.14.1)\n",
      "Requirement already satisfied: dash-renderer==1.8.3 in c:\\users\\roman\\anaconda3\\lib\\site-packages (from dash->jupyter_dash) (1.8.3)\n",
      "Requirement already satisfied: dash-html-components==1.1.1 in c:\\users\\roman\\anaconda3\\lib\\site-packages (from dash->jupyter_dash) (1.1.1)\n",
      "Requirement already satisfied: flask-compress in c:\\users\\roman\\anaconda3\\lib\\site-packages (from dash->jupyter_dash) (1.8.0)\n",
      "Requirement already satisfied: future in c:\\users\\roman\\anaconda3\\lib\\site-packages (from dash->jupyter_dash) (0.18.2)\n",
      "Requirement already satisfied: dash-core-components==1.14.1 in c:\\users\\roman\\anaconda3\\lib\\site-packages (from dash->jupyter_dash) (1.14.1)\n",
      "Requirement already satisfied: jupyter-client in c:\\users\\roman\\anaconda3\\lib\\site-packages (from ipykernel->jupyter_dash) (6.1.6)\n",
      "Requirement already satisfied: tornado>=4.2 in c:\\users\\roman\\anaconda3\\lib\\site-packages (from ipykernel->jupyter_dash) (6.0.4)\n",
      "Requirement already satisfied: traitlets>=4.1.0 in c:\\users\\roman\\anaconda3\\lib\\site-packages (from ipykernel->jupyter_dash) (4.3.3)\n",
      "Requirement already satisfied: jedi>=0.10 in c:\\users\\roman\\anaconda3\\lib\\site-packages (from ipython->jupyter_dash) (0.17.1)\n",
      "Requirement already satisfied: setuptools>=18.5 in c:\\users\\roman\\anaconda3\\lib\\site-packages (from ipython->jupyter_dash) (49.2.0.post20200714)\n",
      "Requirement already satisfied: colorama; sys_platform == \"win32\" in c:\\users\\roman\\anaconda3\\lib\\site-packages (from ipython->jupyter_dash) (0.4.3)\n",
      "Requirement already satisfied: pygments in c:\\users\\roman\\anaconda3\\lib\\site-packages (from ipython->jupyter_dash) (2.6.1)\n",
      "Requirement already satisfied: pickleshare in c:\\users\\roman\\anaconda3\\lib\\site-packages (from ipython->jupyter_dash) (0.7.5)\n",
      "Requirement already satisfied: decorator in c:\\users\\roman\\anaconda3\\lib\\site-packages (from ipython->jupyter_dash) (4.4.2)\n",
      "Requirement already satisfied: prompt-toolkit!=3.0.0,!=3.0.1,<3.1.0,>=2.0.0 in c:\\users\\roman\\anaconda3\\lib\\site-packages (from ipython->jupyter_dash) (3.0.5)\n",
      "Requirement already satisfied: backcall in c:\\users\\roman\\anaconda3\\lib\\site-packages (from ipython->jupyter_dash) (0.2.0)\n",
      "Requirement already satisfied: six>=1.7.0 in c:\\users\\roman\\anaconda3\\lib\\site-packages (from retrying->jupyter_dash) (1.15.0)\n",
      "Requirement already satisfied: MarkupSafe>=0.23 in c:\\users\\roman\\anaconda3\\lib\\site-packages (from Jinja2>=2.10.1->flask->jupyter_dash) (1.1.1)\n",
      "Requirement already satisfied: brotli in c:\\users\\roman\\anaconda3\\lib\\site-packages (from flask-compress->dash->jupyter_dash) (1.0.9)\n",
      "Requirement already satisfied: pyzmq>=13 in c:\\users\\roman\\anaconda3\\lib\\site-packages (from jupyter-client->ipykernel->jupyter_dash) (19.0.1)\n",
      "Requirement already satisfied: jupyter-core>=4.6.0 in c:\\users\\roman\\anaconda3\\lib\\site-packages (from jupyter-client->ipykernel->jupyter_dash) (4.6.3)\n",
      "Requirement already satisfied: python-dateutil>=2.1 in c:\\users\\roman\\anaconda3\\lib\\site-packages (from jupyter-client->ipykernel->jupyter_dash) (2.8.1)\n",
      "Requirement already satisfied: ipython-genutils in c:\\users\\roman\\anaconda3\\lib\\site-packages (from traitlets>=4.1.0->ipykernel->jupyter_dash) (0.2.0)\n",
      "Requirement already satisfied: parso<0.8.0,>=0.7.0 in c:\\users\\roman\\anaconda3\\lib\\site-packages (from jedi>=0.10->ipython->jupyter_dash) (0.7.0)\n",
      "Requirement already satisfied: wcwidth in c:\\users\\roman\\anaconda3\\lib\\site-packages (from prompt-toolkit!=3.0.0,!=3.0.1,<3.1.0,>=2.0.0->ipython->jupyter_dash) (0.2.5)\n",
      "Requirement already satisfied: pywin32>=1.0; sys_platform == \"win32\" in c:\\users\\roman\\anaconda3\\lib\\site-packages (from jupyter-core>=4.6.0->jupyter-client->ipykernel->jupyter_dash) (227)\n",
      "Installing collected packages: ansi2html, jupyter-dash\n",
      "Successfully installed ansi2html-1.6.0 jupyter-dash-0.3.1Note: you may need to restart the kernel to use updated packages.\n",
      "\n"
     ]
    }
   ],
   "source": []
  },
  {
   "cell_type": "code",
   "execution_count": null,
   "metadata": {},
   "outputs": [],
   "source": []
  },
  {
   "cell_type": "code",
   "execution_count": null,
   "metadata": {},
   "outputs": [],
   "source": []
  },
  {
   "cell_type": "code",
   "execution_count": null,
   "metadata": {},
   "outputs": [],
   "source": []
  }
 ],
 "metadata": {
  "kernelspec": {
   "display_name": "Python 3",
   "language": "python",
   "name": "python3"
  },
  "language_info": {
   "codemirror_mode": {
    "name": "ipython",
    "version": 3
   },
   "file_extension": ".py",
   "mimetype": "text/x-python",
   "name": "python",
   "nbconvert_exporter": "python",
   "pygments_lexer": "ipython3",
   "version": "3.8.3"
  }
 },
 "nbformat": 4,
 "nbformat_minor": 2
}
