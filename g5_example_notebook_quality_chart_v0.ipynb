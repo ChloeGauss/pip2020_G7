{
 "cells": [
  {
   "cell_type": "markdown",
   "metadata": {},
   "source": [
    "Created on Monday 04 January 2021  \n",
    "\n",
    "**Group 5 - Classification**  \n",
    "**Example of a notebook according to the quality charter** (Title)\n",
    "\n",
    "@authors : A.B., Z.Y.  "
   ]
  },
  {
   "cell_type": "markdown",
   "metadata": {
    "toc": true
   },
   "source": [
    "<h1>Table of Contents<span class=\"tocSkip\"></span></h1>\n",
    "<div class=\"toc\"><ul class=\"toc-item\"></ul></div>"
   ]
  },
  {
   "cell_type": "markdown",
   "metadata": {},
   "source": [
    "# import"
   ]
  },
  {
   "cell_type": "markdown",
   "metadata": {},
   "source": [
    "Note: Import only the modules used in the notebook."
   ]
  },
  {
   "cell_type": "code",
   "execution_count": 1,
   "metadata": {},
   "outputs": [],
   "source": [
    "import numpy as np\n",
    "import pandas as pd\n",
    "import matplotlib.pyplot as plt\n",
    "import seaborn as sns\n",
    "import os\n",
    "import sys\n",
    "import math\n",
    "from sklearn.model_selection import train_test_split, cross_val_score"
   ]
  },
  {
   "cell_type": "markdown",
   "metadata": {},
   "source": [
    "# part"
   ]
  },
  {
   "cell_type": "markdown",
   "metadata": {},
   "source": [
    "Short description of the part"
   ]
  },
  {
   "cell_type": "code",
   "execution_count": 3,
   "metadata": {},
   "outputs": [],
   "source": [
    "C: int = 0\n",
    "Constant: str = 'ok'\n",
    "variable: int = 1 + 2\n",
    "text: str = 'hello'\n",
    "my_text: str = str(variable)\n",
    "my_list: list = [1, 2, 3]\n",
    "my_dict: dict = {'key1': 'value1', 'key2': 'value2'}"
   ]
  },
  {
   "cell_type": "code",
   "execution_count": 4,
   "metadata": {},
   "outputs": [],
   "source": [
    "def my_function(nb: int, to_add: float = 3.5) -> float:\n",
    "    \"\"\"Documentation\n",
    "    Parameters:\n",
    "        nb: description\n",
    "        to_add: description\n",
    "\n",
    "    Out (if exists):\n",
    "        new_nb: description\n",
    "\n",
    "    References:\n",
    "        1. http://myfirstreference.com\n",
    "        2. http://mysecondreference.com\n",
    "    \"\"\"\n",
    "\n",
    "    # Step 1: calculate the new number\n",
    "    for v in vals:\n",
    "        # comment\n",
    "        new_nb = nb + my_float  # or comment\n",
    "\n",
    "    return new_nb"
   ]
  },
  {
   "cell_type": "code",
   "execution_count": null,
   "metadata": {},
   "outputs": [],
   "source": []
  }
 ],
 "metadata": {
  "kernelspec": {
   "display_name": "Python 3",
   "language": "python",
   "name": "python3"
  },
  "language_info": {
   "codemirror_mode": {
    "name": "ipython",
    "version": 3
   },
   "file_extension": ".py",
   "mimetype": "text/x-python",
   "name": "python",
   "nbconvert_exporter": "python",
   "pygments_lexer": "ipython3",
   "version": "3.7.3"
  },
  "toc": {
   "base_numbering": 1,
   "nav_menu": {},
   "number_sections": true,
   "sideBar": true,
   "skip_h1_title": true,
   "title_cell": "Table of Contents",
   "title_sidebar": "Contents",
   "toc_cell": true,
   "toc_position": {},
   "toc_section_display": true,
   "toc_window_display": false
  }
 },
 "nbformat": 4,
 "nbformat_minor": 2
}
